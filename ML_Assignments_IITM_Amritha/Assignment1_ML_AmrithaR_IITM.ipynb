{
 "cells": [
  {
   "cell_type": "markdown",
   "metadata": {},
   "source": [
    "### 1.Convert Tuple to \n"
   ]
  },
  {
   "cell_type": "markdown",
   "metadata": {},
   "source": [
    "#### [a]List"
   ]
  },
  {
   "cell_type": "code",
   "execution_count": 39,
   "metadata": {},
   "outputs": [
    {
     "name": "stdout",
     "output_type": "stream",
     "text": [
      "('I', 'am', 'Tuple', 'coverted', 'to', 'list')\n",
      "<type 'tuple'>\n",
      "['I', 'am', 'Tuple', 'coverted', 'to', 'list']\n",
      "<type 'list'>\n"
     ]
    }
   ],
   "source": [
    "#Initialising a tuple\n",
    "Tuple_1 = ('I','am','Tuple','coverted','to','list')\n",
    "print(Tuple_1)\n",
    "\n",
    "#Type of object\n",
    "print(type(Tuple_1))\n",
    "\n",
    "#Converting to list\n",
    "List_1= list(Tuple_1)\n",
    "print(List_1)\n",
    "\n",
    "#Type of object\n",
    "print(type(List_1))"
   ]
  },
  {
   "cell_type": "markdown",
   "metadata": {},
   "source": [
    "#### [b]Set"
   ]
  },
  {
   "cell_type": "code",
   "execution_count": 56,
   "metadata": {
    "scrolled": true
   },
   "outputs": [
    {
     "name": "stdout",
     "output_type": "stream",
     "text": [
      "('I', 'am', 'Tuple', 'coverted', 'to', 'set')\n",
      "<type 'tuple'>\n",
      "set(['set', 'Tuple', 'I', 'am', 'to', 'coverted'])\n",
      "<type 'set'>\n"
     ]
    },
    {
     "data": {
      "text/plain": [
       "{'I', 'Tuple', 'am', 'coverted', 'set', 'to'}"
      ]
     },
     "execution_count": 56,
     "metadata": {},
     "output_type": "execute_result"
    }
   ],
   "source": [
    "#Initialising a tuple\n",
    "Tuple_2 = ('I','am','Tuple','coverted','to','set')\n",
    "print(Tuple_2)\n",
    "\n",
    "#Type of object\n",
    "print(type(Tuple_2))\n",
    "\n",
    "#Converting to set\n",
    "Set_1 = set(Tuple_2)\n",
    "print Set_1\n",
    "\n",
    "#Type of object\n",
    "print(type(Set_1))\n",
    "Set_1"
   ]
  },
  {
   "cell_type": "markdown",
   "metadata": {},
   "source": [
    "#### [c]Dictionary"
   ]
  },
  {
   "cell_type": "code",
   "execution_count": 54,
   "metadata": {
    "scrolled": true
   },
   "outputs": [
    {
     "name": "stdout",
     "output_type": "stream",
     "text": [
      "(('I', 'am'), ('Tuple', 'coverted'), ('to', 'Dictionary'))\n",
      "<type 'tuple'>\n",
      "{'I': 'am', 'to': 'Dictionary', 'Tuple': 'coverted'}\n",
      "<type 'dict'>\n"
     ]
    }
   ],
   "source": [
    "#Initialising a tuple\n",
    "Tuple_3 =(('I','am'),('Tuple','coverted'),('to','Dictionary'))\n",
    "print(Tuple_3)\n",
    "\n",
    "#Type of object\n",
    "print(type(Tuple_3))\n",
    "\n",
    "#Converting to dictionary\n",
    "Dict_1=dict(Tuple_3)\n",
    "print(Dict_1)\n",
    "\n",
    "#Type of object\n",
    "print(type(Dict_1))"
   ]
  },
  {
   "cell_type": "markdown",
   "metadata": {},
   "source": [
    "### 2.Convert List to"
   ]
  },
  {
   "cell_type": "markdown",
   "metadata": {},
   "source": [
    "#### [a]Tuple"
   ]
  },
  {
   "cell_type": "code",
   "execution_count": 60,
   "metadata": {},
   "outputs": [
    {
     "name": "stdout",
     "output_type": "stream",
     "text": [
      "['I', 'am', 'List', 'coverted', 'to', 'Tuple']\n",
      "<type 'list'>\n",
      "('I', 'am', 'List', 'coverted', 'to', 'Tuple')\n",
      "<type 'tuple'>\n"
     ]
    }
   ],
   "source": [
    "#Initialising a List\n",
    "List_1 = ['I','am','List','coverted','to','Tuple']\n",
    "print(List_1)\n",
    "\n",
    "#Type of object\n",
    "print(type(List_1))\n",
    "\n",
    "#Converting to tuple\n",
    "Tuple_1= tuple(List_1)\n",
    "print(Tuple_1)\n",
    "\n",
    "#Type of object\n",
    "print(type(Tuple_1))"
   ]
  },
  {
   "cell_type": "markdown",
   "metadata": {},
   "source": [
    "#### [b]Set"
   ]
  },
  {
   "cell_type": "code",
   "execution_count": 61,
   "metadata": {},
   "outputs": [
    {
     "name": "stdout",
     "output_type": "stream",
     "text": [
      "['I', 'am', 'List', 'coverted', 'to', 'Set']\n",
      "<type 'list'>\n",
      "set(['Set', 'I', 'am', 'List', 'to', 'coverted'])\n",
      "<type 'set'>\n"
     ]
    },
    {
     "data": {
      "text/plain": [
       "{'I', 'List', 'Set', 'am', 'coverted', 'to'}"
      ]
     },
     "execution_count": 61,
     "metadata": {},
     "output_type": "execute_result"
    }
   ],
   "source": [
    "#Initialising a List\n",
    "List_2 = ['I','am','List','coverted','to','Set']\n",
    "print(List_2)\n",
    "\n",
    "#Type of object\n",
    "print(type(List_2))\n",
    "\n",
    "#Converting to set\n",
    "Set_1 = set(List_2)\n",
    "print Set_1\n",
    "\n",
    "#Type of object\n",
    "print(type(Set_1))\n",
    "Set_1"
   ]
  },
  {
   "cell_type": "markdown",
   "metadata": {},
   "source": [
    "#### [c]Dictionary"
   ]
  },
  {
   "cell_type": "code",
   "execution_count": 63,
   "metadata": {},
   "outputs": [
    {
     "name": "stdout",
     "output_type": "stream",
     "text": [
      "[['I', 'am'], ['List', 'coverted'], ['to', 'Dictionary']]\n",
      "<type 'list'>\n",
      "{'I': 'am', 'to': 'Dictionary', 'List': 'coverted'}\n",
      "<type 'dict'>\n"
     ]
    }
   ],
   "source": [
    "#Initialising a List\n",
    "List_3 = [['I','am'],['List','coverted'],['to','Dictionary']]\n",
    "print(List_3)\n",
    "\n",
    "#Type of object\n",
    "print(type(List_3))\n",
    "\n",
    "#Converting to dictionary\n",
    "Dict_1=dict(List_3)\n",
    "print(Dict_1)\n",
    "\n",
    "#Type of object\n",
    "print(type(Dict_1))"
   ]
  },
  {
   "cell_type": "markdown",
   "metadata": {},
   "source": [
    "### 3.Convert Set to"
   ]
  },
  {
   "cell_type": "markdown",
   "metadata": {},
   "source": [
    "#### [a]List"
   ]
  },
  {
   "cell_type": "code",
   "execution_count": 66,
   "metadata": {
    "scrolled": true
   },
   "outputs": [
    {
     "name": "stdout",
     "output_type": "stream",
     "text": [
      "set(['Set', 'I', 'list', 'am', 'to', 'coverted'])\n",
      "<type 'set'>\n",
      "['Set', 'I', 'list', 'am', 'to', 'coverted']\n",
      "<type 'list'>\n"
     ]
    },
    {
     "data": {
      "text/plain": [
       "{'I', 'Set', 'am', 'coverted', 'list', 'to'}"
      ]
     },
     "execution_count": 66,
     "metadata": {},
     "output_type": "execute_result"
    }
   ],
   "source": [
    "#Initialising a Set\n",
    "Set_1 = {'I','am','Set','coverted','to','list'}\n",
    "print(Set_1)\n",
    "\n",
    "#Type of object\n",
    "print(type(Set_1))\n",
    "\n",
    "#Converting to list\n",
    "List_1= list(Set_1)\n",
    "print(List_1)\n",
    "\n",
    "#Type of object\n",
    "print(type(List_1))\n",
    "Set_1"
   ]
  },
  {
   "cell_type": "markdown",
   "metadata": {},
   "source": [
    "#### [b] Tuple"
   ]
  },
  {
   "cell_type": "code",
   "execution_count": 67,
   "metadata": {},
   "outputs": [
    {
     "name": "stdout",
     "output_type": "stream",
     "text": [
      "set(['Set', 'tuple', 'I', 'am', 'to', 'coverted'])\n",
      "<type 'set'>\n",
      "('Set', 'tuple', 'I', 'am', 'to', 'coverted')\n",
      "<type 'tuple'>\n"
     ]
    },
    {
     "data": {
      "text/plain": [
       "{'I', 'Set', 'am', 'coverted', 'to', 'tuple'}"
      ]
     },
     "execution_count": 67,
     "metadata": {},
     "output_type": "execute_result"
    }
   ],
   "source": [
    "#Initialising a Set\n",
    "Set_2 = {'I','am','Set','coverted','to','tuple'}\n",
    "print(Set_2)\n",
    "\n",
    "#Type of object\n",
    "print(type(Set_2))\n",
    "\n",
    "#Converting to tuple\n",
    "Tuple_1= tuple(Set_2)\n",
    "print(Tuple_1)\n",
    "\n",
    "#Type of object\n",
    "print(type(Tuple_1))\n",
    "Set_2"
   ]
  },
  {
   "cell_type": "markdown",
   "metadata": {},
   "source": [
    "#### [c]Dictionary"
   ]
  },
  {
   "cell_type": "code",
   "execution_count": 71,
   "metadata": {},
   "outputs": [
    {
     "name": "stdout",
     "output_type": "stream",
     "text": [
      "set(['Dictionary', 'I', 'List', 'am', 'to', 'coverted'])\n",
      "<type 'set'>\n",
      "{'to': 'values', 'coverted': 'values', 'Dictionary': 'values', 'I': 'values', 'am': 'values', 'List': 'values'}\n",
      "<type 'dict'>\n"
     ]
    }
   ],
   "source": [
    "#Initialising a Set\n",
    "Set_3 = {'I','am' ,'List','coverted','to','Dictionary'}\n",
    "print(Set_3)\n",
    "\n",
    "#Type of object\n",
    "print(type(Set_3))\n",
    "\n",
    "#Converting to dictionary\n",
    "Dict_1=dict.fromkeys(Set_3,'values')\n",
    "print(Dict_1)\n",
    "\n",
    "#Type of object\n",
    "print(type(Dict_1))"
   ]
  },
  {
   "cell_type": "markdown",
   "metadata": {},
   "source": [
    "### 4.Convert Dictionary to "
   ]
  },
  {
   "cell_type": "markdown",
   "metadata": {},
   "source": [
    "#### [a]List"
   ]
  },
  {
   "cell_type": "code",
   "execution_count": 81,
   "metadata": {},
   "outputs": [
    {
     "name": "stdout",
     "output_type": "stream",
     "text": [
      "{'I': 'am', 'to': 'List', 'Dictionary': 'converted'}\n",
      "<type 'dict'>\n",
      "[('I', 'am'), ('to', 'List'), ('Dictionary', 'converted')]\n",
      "<type 'list'>\n",
      "['I', 'am', 'to', 'List', 'Dictionary', 'converted']\n",
      "<type 'list'>\n"
     ]
    }
   ],
   "source": [
    "#Initialising a Dictionary\n",
    "Dict_1 = {'I':'am','Dictionary':'converted','to':'List'}\n",
    "print(Dict_1)\n",
    "\n",
    "#Type of object\n",
    "print(type(Dict_1))\n",
    "List_1= list(Dict_1.items())  ## It is a tuple of list\n",
    "print(List_1)\n",
    "\n",
    "#Type of object\n",
    "print(type(List_1))\n",
    "\n",
    "#Converting to list\n",
    "list_actual=[]\n",
    "[list_actual.extend([key,value]) for key,value in Dict_1.items()]\n",
    "print(list_actual)\n",
    "\n",
    "#Type of object\n",
    "print(type(list_actual))"
   ]
  },
  {
   "cell_type": "markdown",
   "metadata": {},
   "source": [
    "#### [a]Tuple"
   ]
  },
  {
   "cell_type": "code",
   "execution_count": 86,
   "metadata": {},
   "outputs": [
    {
     "name": "stdout",
     "output_type": "stream",
     "text": [
      "{'I': 'am', 'to': 'Tuple', 'Dictionary': 'converted'}\n",
      "<type 'dict'>\n",
      "(('I', 'am'), ('to', 'List'), ('Dictionary', 'converted'))\n",
      "<type 'tuple'>\n"
     ]
    }
   ],
   "source": [
    "#Initialising a Dictionary\n",
    "Dict_2 = {'I':'am','Dictionary':'converted','to':'Tuple'}\n",
    "print(Dict_2)\n",
    "\n",
    "#Type of object\n",
    "print(type(Dict_2))\n",
    "\n",
    "\n",
    "Tuple_1= tuple(Dict_1.items())  ##Tuple of tuples\n",
    "print(Tuple_1)\n",
    "\n",
    "#Type of object\n",
    "print(type(Tuple_1))"
   ]
  },
  {
   "cell_type": "markdown",
   "metadata": {},
   "source": [
    "#### [c]set"
   ]
  },
  {
   "cell_type": "code",
   "execution_count": 88,
   "metadata": {},
   "outputs": [
    {
     "name": "stdout",
     "output_type": "stream",
     "text": [
      "{'I': 'am', 'to': 'Tuple', 'Dictionary': 'converted'}\n",
      "<type 'dict'>\n",
      "set([('Dictionary', 'converted'), ('to', 'List'), ('I', 'am')])\n",
      "<type 'set'>\n"
     ]
    },
    {
     "data": {
      "text/plain": [
       "{('Dictionary', 'converted'), ('I', 'am'), ('to', 'List')}"
      ]
     },
     "execution_count": 88,
     "metadata": {},
     "output_type": "execute_result"
    }
   ],
   "source": [
    "#Initialising a Dictionary\n",
    "Dict_3 = {'I':'am','Dictionary':'converted','to':'Tuple'}\n",
    "print(Dict_3)\n",
    "\n",
    "#Type of object\n",
    "print(type(Dict_3))\n",
    "\n",
    "\n",
    "Set_1= set(Dict_1.items())  ##Tuple of tuples\n",
    "print(Set_1)\n",
    "\n",
    "#Type of object\n",
    "print(type(Set_1))\n",
    "Set_1"
   ]
  },
  {
   "cell_type": "markdown",
   "metadata": {},
   "source": [
    "### 5.Operations on List"
   ]
  },
  {
   "cell_type": "code",
   "execution_count": 168,
   "metadata": {},
   "outputs": [
    {
     "name": "stdout",
     "output_type": "stream",
     "text": [
      "['I', 'am', 'list', 'declared', 'using', 'square', 'brackets']\n",
      "['I', 'am', 'list', 'declared', 'using', 'square', 'brackets', 'I_am_Mutable']\n",
      "I_am_Mutable\n",
      "['I', 'am', 'list']\n"
     ]
    }
   ],
   "source": [
    "#Initialising a List\n",
    "list_lt = ['I','am','list','declared','using','square','brackets']\n",
    "print(list_lt)\n",
    "\n",
    "list_lt.append('I_am_Mutable')  # Appending an element to the list\n",
    "print(list_lt)\n",
    "\n",
    "x = list_lt.pop()  # pop , deletes newly added element or element from end\n",
    "print(x)\n",
    "\n",
    "del list_lt[3:7]  # deleting element from index 3 (inclusive) to index 7 (exclusive)\n",
    "print(list_lt)"
   ]
  },
  {
   "cell_type": "code",
   "execution_count": 167,
   "metadata": {},
   "outputs": [
    {
     "name": "stdout",
     "output_type": "stream",
     "text": [
      "[1, 5, 3, 2, 4]\n",
      "[1, 5, 3, 2, 4, 9]\n",
      "[1, 5, 3, 2, 4]\n",
      "[1, 2, 3, 4, 5]\n",
      "[5, 4, 3, 2, 1]\n"
     ]
    }
   ],
   "source": [
    "#Initialising a List\n",
    "list_lt2 = [1,5,3,2,4]\n",
    "print(list_lt2)\n",
    "\n",
    "list_lt2.insert(5,9)  # Inserting a new element at index 5\n",
    "print(list_lt2)\n",
    "\n",
    "list_lt2.remove(9)  # removing the newly added element\n",
    "print(list_lt2)\n",
    "\n",
    "list_lt2.sort() # sort ascending order\n",
    "print(list_lt2)\n",
    "\n",
    "list_lt2.reverse() # sort descending order\n",
    "print(list_lt2)"
   ]
  },
  {
   "cell_type": "markdown",
   "metadata": {},
   "source": [
    "### 6.Operations on Tuple"
   ]
  },
  {
   "cell_type": "code",
   "execution_count": 178,
   "metadata": {},
   "outputs": [
    {
     "name": "stdout",
     "output_type": "stream",
     "text": [
      "('I', 'am', 'tuple', 'declared', 'using', 'round', 'brackets')\n",
      "('I', 'am', 'tuple', 'declared', 'using', 'round', 'brackets', 19)\n"
     ]
    },
    {
     "data": {
      "text/plain": [
       "'\\n.append() , .sort() ,.insert() ,.remove() methods wont work with tuple as it is immutable\\n\\n'"
      ]
     },
     "execution_count": 178,
     "metadata": {},
     "output_type": "execute_result"
    }
   ],
   "source": [
    "#Initialising a Tuple\n",
    "tuple_tl = ('I','am','tuple','declared','using','round','brackets')\n",
    "print(tuple_tl)\n",
    "\n",
    "tuple_tl = tuple_tl + (19 ,)  # Inserting a new element at the end, .append() wont work as tuple is immutable\n",
    "print(tuple_tl)\n",
    "'''\n",
    ".append() , .sort() ,.insert() ,.remove() methods wont work with tuple as it is immutable\n",
    "\n",
    "'''"
   ]
  },
  {
   "cell_type": "markdown",
   "metadata": {},
   "source": [
    "### 7.Operations on Set"
   ]
  },
  {
   "cell_type": "code",
   "execution_count": 190,
   "metadata": {},
   "outputs": [
    {
     "name": "stdout",
     "output_type": "stream",
     "text": [
      "set(['declared', 'set', 'curly', 'brackets', 'I', 'am', 'using'])\n",
      "set(['declared', 'set', 'curly', 'brackets', 'I', 'am', 'I_am_unordered', 'using'])\n",
      "set(['declared', 'set', 'curly', 'brackets', 'I', 'am', 'I_am', 'I_am_unordered', 'using', 'distinct'])\n",
      "set(['declared', 'set', 'curly', 'brackets', 'I', 'am', 'I_am', 'I_am_unordered', 'using'])\n",
      "set(['declared', 'set', 'e', 'i', 'curly', 'brackets', 'I', 'am', 'I_am', 'n', 'q', 'I_am_unordered', 'u', 'using'])\n",
      "set(['set', 'e', 'i', 'curly', 'brackets', 'I', 'am', 'I_am', 'n', 'q', 'I_am_unordered', 'u', 'using'])\n"
     ]
    }
   ],
   "source": [
    "#Initialising a Set\n",
    "set_st = {'I','am','set','declared','using','curly','brackets'}\n",
    "print(set_st)\n",
    "\n",
    "set_st.add('I_am_unordered')  #add item\n",
    "print(set_st)\n",
    "\n",
    "set_st.update(['I_am','distinct'])  #adding more than 1 item\n",
    "print(set_st)\n",
    "\n",
    "set_st.remove('distinct')   \n",
    "print(set_st)\n",
    "\n",
    "set_st.update('unique') #this will add individual\n",
    "print(set_st)\n",
    "\n",
    "set_st.pop()\n",
    "print(set_st)\n"
   ]
  },
  {
   "cell_type": "markdown",
   "metadata": {},
   "source": [
    "### 8.Operations on Dictionary"
   ]
  },
  {
   "cell_type": "code",
   "execution_count": 252,
   "metadata": {
    "scrolled": true
   },
   "outputs": [
    {
     "name": "stdout",
     "output_type": "stream",
     "text": [
      "{'Roll No.': 12, 'Student Name': 'Fredy', 'Subject': 'English'}\n",
      "{'Roll No.': 12, 'Student Name': 'Fredy', 'Marks': '100', 'Subject': 'English'}\n",
      "{'Roll No.': 12, 'Student Name': 'Fredy', 'Marks': '100', 'class': 'MS_2nd_year', 'Subject': 'English'}\n",
      "{'Roll No.': 12, 'Student Name': 'Fredy', 'Marks': '100', 'Subject': 'English'}\n",
      "('Roll No.', 12)\n",
      "{'Student Name': 'Fredy', 'Marks': '100', 'Subject': 'English'}\n",
      "{'Student Name': 'Fredy', 'Subject': 'English'}\n",
      "{}\n"
     ]
    },
    {
     "data": {
      "text/plain": [
       "'\\ndel Dict_1    # Finally, eliminate the dictionary object\\nprint(Dict_1)\\n'"
      ]
     },
     "execution_count": 252,
     "metadata": {},
     "output_type": "execute_result"
    }
   ],
   "source": [
    "#Initialising a Dictionary\n",
    "Dict_1 ={'Student Name': 'Fredy', 'Roll No.': 12, 'Subject': 'English'}\n",
    "print(Dict_1)\n",
    "\n",
    "Dict_1.update({\"Marks\" : \"100\"})\n",
    "print(Dict_1)\n",
    "\n",
    "Dict_1['class'] ='MS_2nd_year' # Add a specific element\n",
    "print(Dict_1)\n",
    "\n",
    "Dict_1.pop('class') # Delete a specific element\n",
    "print(Dict_1)\n",
    "\n",
    "print(Dict_1.popitem()) # Delete an random element\n",
    "print(Dict_1)\n",
    "\n",
    "del Dict_1['Marks'] # Remove a specific element\n",
    "print(Dict_1)\n",
    "\n",
    "Dict_1.clear() # Delete all elements from the dictionary\n",
    "print(Dict_1)\n",
    "\n",
    "'''\n",
    "del Dict_1    # Finally, eliminate the dictionary object\n",
    "print(Dict_1)\n",
    "'''"
   ]
  },
  {
   "cell_type": "markdown",
   "metadata": {},
   "source": [
    "### 9.Copy of list , tuple and dictionary"
   ]
  },
  {
   "cell_type": "code",
   "execution_count": 277,
   "metadata": {},
   "outputs": [
    {
     "name": "stdout",
     "output_type": "stream",
     "text": [
      "['I', 'am', 'list']\n",
      "<type 'list'>\n",
      "['I', 'am', 'list']\n",
      "['I', 'am', 'list', 'original']\n",
      "['I', 'am', 'list']\n"
     ]
    }
   ],
   "source": [
    "import copy\n",
    "#Initialising a list\n",
    "List_1 = ['I','am','list']\n",
    "print(List_1)\n",
    "print(type(List_1))\n",
    "\n",
    "List_2 = copy.copy(List_1) #Making a copy of original list\n",
    "print(List_2)\n",
    "\n",
    "List_1.append('original') #Change not reflected in copy, true copy\n",
    "print(List_1)\n",
    "print(List_2)"
   ]
  },
  {
   "cell_type": "code",
   "execution_count": 281,
   "metadata": {},
   "outputs": [
    {
     "name": "stdout",
     "output_type": "stream",
     "text": [
      "('I', 'am', 'Tuple')\n",
      "('I', 'am', 'Tuple')\n",
      "('I', 'am', 'Tuple', 'origial')\n",
      "('I', 'am', 'Tuple')\n"
     ]
    }
   ],
   "source": [
    "#Initialising a tuple\n",
    "Tuple_1 = ('I','am','Tuple')\n",
    "print(Tuple_1)\n",
    "\n",
    "Tuple_2 = copy.copy(Tuple_1) #Making a copy of original tuple\n",
    "print(Tuple_2)\n",
    "\n",
    "Tuple_1=Tuple_1 + ('origial' ,)  # Inserting a new element\n",
    "print(Tuple_1) #Change not reflected in copy, true copy\n",
    "print(Tuple_2)"
   ]
  },
  {
   "cell_type": "code",
   "execution_count": 299,
   "metadata": {},
   "outputs": [
    {
     "name": "stdout",
     "output_type": "stream",
     "text": [
      "{'I': 'am', 'Dict_1': 'original'}\n",
      "{'I': 'am', 'Dict_1': 'original'}\n",
      "{'I': 'am', 'Dict_2': 'Copy', 'Dict_1': 'original'}\n",
      "{'I': 'am', 'Dict_1': 'original'}\n"
     ]
    }
   ],
   "source": [
    "#Initialising a Dictionary\n",
    "Dict_1 = {'I':'am','Dict_1':'original'}\n",
    "print(Dict_1)\n",
    "\n",
    "Dict_2=Dict_1.copy()\n",
    "print(Dict_2)\n",
    "\n",
    "Dict_1.update({\"Dict_2\" : \"Copy\"}) # Inserting a new key value pair\n",
    "print(Dict_1)  #Change not reflected in copy, true copy\n",
    "print(Dict_2)"
   ]
  },
  {
   "cell_type": "markdown",
   "metadata": {},
   "source": [
    "### 10. A function which accept input from keyboard and check if student grade should be First division, second division or Fail  "
   ]
  },
  {
   "cell_type": "code",
   "execution_count": 442,
   "metadata": {},
   "outputs": [
    {
     "name": "stdout",
     "output_type": "stream",
     "text": [
      "ENTER EXAM SCORE: \n",
      "90\n",
      "You got First_Division\n"
     ]
    }
   ],
   "source": [
    "def read_scores():\n",
    "    print(\"ENTER EXAM SCORE: \")\n",
    "    exam = int(input())\n",
    "    return exam\n",
    "\n",
    "def grade_cal(exam):\n",
    "    if(80 <= exam <=100):\n",
    "        grade ='First_Division'\n",
    "    elif(40 <= exam <=79):\n",
    "        grade ='Second_Division'\n",
    "    else:\n",
    "        grade ='Failed'\n",
    "    return grade\n",
    "\n",
    "\n",
    "exam = read_scores()\n",
    "grade = grade_cal(exam)\n",
    "print(\"You got \" + grade)\n",
    "\n"
   ]
  },
  {
   "cell_type": "markdown",
   "metadata": {},
   "source": [
    "### 11. Operation on sets  "
   ]
  },
  {
   "cell_type": "code",
   "execution_count": 428,
   "metadata": {},
   "outputs": [
    {
     "name": "stdout",
     "output_type": "stream",
     "text": [
      "set(['Pakistan', 'Australia', 'England', 'India'])\n",
      "set(['West Indies', 'New Zealand', 'India', 'Bangladesh'])\n"
     ]
    }
   ],
   "source": [
    "teamA = {'India', 'Australia','Pakistan', 'England'}\n",
    "teamB = {'Bangladesh', 'New Zealand', 'West Indies', 'India'}\n",
    "print(teamA)\n",
    "print(teamB)"
   ]
  },
  {
   "cell_type": "markdown",
   "metadata": {},
   "source": [
    "### 12. Add, clear, copy, difference, differenc_update(), discard, intersection"
   ]
  },
  {
   "cell_type": "code",
   "execution_count": 429,
   "metadata": {},
   "outputs": [
    {
     "name": "stdout",
     "output_type": "stream",
     "text": [
      "set(['Pakistan', 'Australia', 'England', 'India', 'Srilanka'])\n",
      "set(['Pakistan', 'Australia', 'England', 'India', 'Srilanka'])\n",
      "set([])\n",
      "set(['India'])\n",
      "set(['India'])\n",
      "set(['West Indies', 'New Zealand', 'Bangladesh'])\n",
      "set(['West Indies', 'New Zealand', 'Bangladesh'])\n",
      "set(['West Indies', 'New Zealand'])\n"
     ]
    }
   ],
   "source": [
    "teamA.add('Srilanka')  ##Added a new element\n",
    "print(teamA)\n",
    "\n",
    "teamC= teamA.copy()    ##Copied the contents of set to a new set\n",
    "print(teamC)\n",
    "\n",
    "teamC.clear()  ##clearing the elements of the set\n",
    "print(teamC)\n",
    "\n",
    "teamC = teamA.intersection(teamB)   ##finding the common element\n",
    "print(teamC)\n",
    "\n",
    "teamA.intersection_update(teamB)   ##finding the common element and updating the  LHS\n",
    "print(teamA)\n",
    "\n",
    "teamD= teamB.difference(teamA) ##finding the difference \n",
    "print(teamD)\n",
    "\n",
    "teamB.difference_update(teamA) ##finding the difference and updating the LHS\n",
    "print(teamB)\n",
    "\n",
    "teamD.discard('Bangladesh')  ##discarding one element\n",
    "print(teamD)\n"
   ]
  },
  {
   "cell_type": "markdown",
   "metadata": {},
   "source": [
    "### 13. Union,Symmetric_difference,and remove element from a set"
   ]
  },
  {
   "cell_type": "code",
   "execution_count": 430,
   "metadata": {},
   "outputs": [
    {
     "name": "stdout",
     "output_type": "stream",
     "text": [
      "set(['West Indies', 'New Zealand', 'India', 'Bangladesh'])\n",
      "set(['India'])\n",
      "set(['West Indies', 'New Zealand', 'Bangladesh'])\n"
     ]
    }
   ],
   "source": [
    "teamE = teamA.union(teamB) ## union of sets and updating\n",
    "print(teamE)\n",
    "\n",
    "teamF = teamE.symmetric_difference(teamB) ##A-B union B-A\n",
    "print(teamF)\n",
    "\n",
    "teamE.remove('India')  ##Removing an element\n",
    "print(teamE)\n"
   ]
  },
  {
   "cell_type": "markdown",
   "metadata": {},
   "source": [
    "### 14.List Comprehension with examples"
   ]
  },
  {
   "cell_type": "raw",
   "metadata": {},
   "source": [
    "List comprehension is a complete substitute to for loops , if we want a list whose elements are squares of even numbers from 0 t0 20 , we can do the same without an elaborate for loop with the help of list comprehension\n",
    "\n",
    "Example as follows::"
   ]
  },
  {
   "cell_type": "code",
   "execution_count": 443,
   "metadata": {},
   "outputs": [
    {
     "name": "stdout",
     "output_type": "stream",
     "text": [
      "[0, 4, 16, 36, 64, 100, 144, 196, 256, 324, 400]\n",
      "[1, 9, 25, 49, 81, 121, 169, 225, 289, 361, 441]\n"
     ]
    }
   ],
   "source": [
    "## Example 1) Printing squares of even numbers\n",
    "\n",
    "# Initialize `numbers`\n",
    "numbers = range(22) #excluding 22\n",
    "\n",
    "# Create `list_of_even_squares ` \n",
    "list_of_even_squares = [n**2 for n in numbers if n%2==0]\n",
    "\n",
    "# Print `list_of_even_squares `\n",
    "print(list_of_even_squares )\n",
    "\n",
    "## Example 2) Printing squares of odd numbers\n",
    "\n",
    "# Create `list_of_odd_squares ` \n",
    "list_of_odd_squares = [n**2 for n in numbers if n%2!=0]\n",
    "\n",
    "# Print `list_of_odd_squares `\n",
    "print(list_of_odd_squares )\n"
   ]
  },
  {
   "cell_type": "markdown",
   "metadata": {},
   "source": [
    "### 15.Difference between List and tuple , with examples"
   ]
  },
  {
   "cell_type": "raw",
   "metadata": {},
   "source": [
    "List Vs Tuple\n",
    "\n",
    "1.The syntax of tuples is shown by parentheses () whereas  lists is shown by square brackets [] .\n",
    "2.Lists has variable length, tuple has fixed length.\n",
    "3.List has mutable nature, tuple has immutable nature i.e., append,remove functions throws error in tuples as the object cannot be modified\n",
    "4.List has more functionality than the tuple."
   ]
  },
  {
   "cell_type": "code",
   "execution_count": 438,
   "metadata": {},
   "outputs": [
    {
     "name": "stdout",
     "output_type": "stream",
     "text": [
      "['Grapes', 'apple', 'banana', 'cherry']\n",
      "<type 'list'>\n",
      "4\n",
      "['Grapes', 'apple', 'Mango', 'cherry']\n",
      "('Grapes', 'apple', 'banana', 'cherry')\n",
      "<type 'tuple'>\n",
      "4\n"
     ]
    },
    {
     "ename": "TypeError",
     "evalue": "'tuple' object does not support item assignment",
     "output_type": "error",
     "traceback": [
      "\u001b[0;31m---------------------------------------------------------------------------\u001b[0m",
      "\u001b[0;31mTypeError\u001b[0m                                 Traceback (most recent call last)",
      "\u001b[0;32m<ipython-input-438-24683c270255>\u001b[0m in \u001b[0;36m<module>\u001b[0;34m()\u001b[0m\n\u001b[1;32m     17\u001b[0m \u001b[0;32mprint\u001b[0m\u001b[0;34m(\u001b[0m\u001b[0mlen\u001b[0m\u001b[0;34m(\u001b[0m\u001b[0mtuple_fruit\u001b[0m\u001b[0;34m)\u001b[0m\u001b[0;34m)\u001b[0m\u001b[0;34m\u001b[0m\u001b[0m\n\u001b[1;32m     18\u001b[0m \u001b[0;34m\u001b[0m\u001b[0m\n\u001b[0;32m---> 19\u001b[0;31m \u001b[0mtuple_fruit\u001b[0m\u001b[0;34m[\u001b[0m\u001b[0;36m2\u001b[0m\u001b[0;34m]\u001b[0m \u001b[0;34m=\u001b[0m \u001b[0;34m\"Mango\"\u001b[0m \u001b[0;31m#changig the value at index 2\u001b[0m\u001b[0;34m\u001b[0m\u001b[0m\n\u001b[0m\u001b[1;32m     20\u001b[0m \u001b[0;32mprint\u001b[0m\u001b[0;34m(\u001b[0m\u001b[0;34m(\u001b[0m\u001b[0mtuple_fruit\u001b[0m\u001b[0;34m)\u001b[0m\u001b[0;34m)\u001b[0m\u001b[0;34m\u001b[0m\u001b[0m\n\u001b[1;32m     21\u001b[0m \u001b[0;34m\u001b[0m\u001b[0m\n",
      "\u001b[0;31mTypeError\u001b[0m: 'tuple' object does not support item assignment"
     ]
    }
   ],
   "source": [
    "##########---------------  Example ---------------######\n",
    "\n",
    "##Initialisin a list object\n",
    "list_fruit = ['Grapes',\"apple\", \"banana\", \"cherry\"]\n",
    "print(list_fruit)\n",
    "print(type(list_fruit))\n",
    "print(len(list_fruit))\n",
    "\n",
    "\n",
    "list_fruit[2] = \"Mango\" #changig the value at index 2\n",
    "print((list_fruit))\n",
    "\n",
    "##Initialisin a tuple object\n",
    "tuple_fruit = ( 'Grapes',\"apple\", \"banana\", \"cherry\")\n",
    "print(tuple_fruit)\n",
    "print(type(tuple_fruit))\n",
    "print(len(tuple_fruit))\n",
    "\n",
    "tuple_fruit[2] = \"Mango\" #changig the value at index 2\n",
    "print((tuple_fruit))\n",
    "\n",
    "tuple_fruit[4] = \"Guava\" #Adding a value at index 4\n",
    "print((tuple_fruit))"
   ]
  },
  {
   "cell_type": "markdown",
   "metadata": {},
   "source": [
    "### 16.Output of the code snippet"
   ]
  },
  {
   "cell_type": "code",
   "execution_count": 444,
   "metadata": {},
   "outputs": [
    {
     "name": "stdout",
     "output_type": "stream",
     "text": [
      "Sucess 0 and 1 or 1\n"
     ]
    }
   ],
   "source": [
    "if 1 and 0:\n",
    "    print(\"Sucess 1 and 0\")\n",
    "elif 0 and 0:\n",
    "    print(\"Sucess 0 and 0\")\n",
    "elif 0 and 1 or 1:\n",
    "    print(\"Sucess 0 and 1 or 1\")\n",
    "elif 0 and 0 or 1 and 1:\n",
    "    print(\"Sucess : 0 and 0 or 1 and 1\")\n",
    "    "
   ]
  },
  {
   "cell_type": "raw",
   "metadata": {},
   "source": [
    "Explanation ::\n",
    "        \n",
    "if true , the statement in if body will get executed \n",
    "elif true , the statement in its body will get executed,\n",
    "here third elif is true as 1 or 1 is 1 which is true , hence the statement in its body got printed on screen\n"
   ]
  },
  {
   "cell_type": "markdown",
   "metadata": {},
   "source": [
    "### 17.Output of the code snippet"
   ]
  },
  {
   "cell_type": "code",
   "execution_count": 446,
   "metadata": {},
   "outputs": [
    {
     "name": "stdout",
     "output_type": "stream",
     "text": [
      "10\n",
      "20\n",
      "30\n",
      "[10, 20, 30]\n",
      "40\n",
      "50\n",
      "60\n",
      "[40, 50, 60]\n",
      "70\n",
      "80\n",
      "90\n",
      "[70, 80, 90]\n"
     ]
    }
   ],
   "source": [
    "list_of_lists = [[10, 20, 30], [40, 50, 60], [70, 80, 90]]\n",
    "for list1 in list_of_lists: \n",
    "    for x in list1: \n",
    "        print(x)\n",
    "    print(list1)\n"
   ]
  },
  {
   "cell_type": "raw",
   "metadata": {},
   "source": [
    "Explanation ::  \n",
    "        \n",
    "We are iterating to print the individual list elements of the inner list using the for loop\n",
    " "
   ]
  },
  {
   "cell_type": "markdown",
   "metadata": {},
   "source": [
    "### 18.Numpy version"
   ]
  },
  {
   "cell_type": "code",
   "execution_count": 447,
   "metadata": {},
   "outputs": [
    {
     "name": "stdout",
     "output_type": "stream",
     "text": [
      "1.16.2\n"
     ]
    }
   ],
   "source": [
    "import numpy as np\n",
    "print(np.__version__)\n",
    "#print(np.show_config())"
   ]
  },
  {
   "cell_type": "markdown",
   "metadata": {},
   "source": [
    "### 19.Vector with values ranging from 10 to 29"
   ]
  },
  {
   "cell_type": "code",
   "execution_count": 216,
   "metadata": {},
   "outputs": [
    {
     "name": "stdout",
     "output_type": "stream",
     "text": [
      "[10 11 12 13 14 15 16 17 18 19 20 21 22 23 24 25 26 27 28 29]\n"
     ]
    }
   ],
   "source": [
    "np_vector = np.arange(10,30) #30 is exclusive\n",
    "print(np_vector)"
   ]
  },
  {
   "cell_type": "markdown",
   "metadata": {},
   "source": [
    "### 20.A 3x3 matrix with values ranging from 0 to 8 "
   ]
  },
  {
   "cell_type": "code",
   "execution_count": 217,
   "metadata": {},
   "outputs": [
    {
     "name": "stdout",
     "output_type": "stream",
     "text": [
      "[[0 1 2]\n",
      " [3 4 5]\n",
      " [6 7 8]]\n"
     ]
    }
   ],
   "source": [
    "np_matrix =  np.arange(0,9)  #9 is exclusive\n",
    "print(np_matrix.reshape(3,3))"
   ]
  },
  {
   "cell_type": "markdown",
   "metadata": {},
   "source": [
    "### 21.A 10x10 array with random values and find the minimum and maximum values"
   ]
  },
  {
   "cell_type": "code",
   "execution_count": 223,
   "metadata": {},
   "outputs": [
    {
     "name": "stdout",
     "output_type": "stream",
     "text": [
      "[[0.48849932 0.48295009 0.1862891  0.49730112 0.48271594 0.32423801\n",
      "  0.74984062 0.30162055 0.80027576 0.84922312]\n",
      " [0.75437996 0.03491433 0.88002944 0.31800864 0.50080699 0.47543189\n",
      "  0.64895095 0.13491355 0.92475017 0.63366733]\n",
      " [0.3035969  0.49742358 0.39787596 0.30408067 0.07774788 0.77274788\n",
      "  0.82039723 0.03534079 0.70623693 0.91027797]\n",
      " [0.56930384 0.66596849 0.43367731 0.80000035 0.89946644 0.08139321\n",
      "  0.55930636 0.9630846  0.35899664 0.7842288 ]\n",
      " [0.35379109 0.11431223 0.73724198 0.64175766 0.60988249 0.60275835\n",
      "  0.21945657 0.49294446 0.58338113 0.01636247]\n",
      " [0.39975168 0.48181206 0.6559679  0.00487212 0.45941762 0.68181264\n",
      "  0.60307964 0.51187181 0.20056329 0.31420588]\n",
      " [0.65403674 0.85228042 0.41999992 0.87729971 0.49941947 0.38482463\n",
      "  0.71434479 0.68544559 0.77359298 0.70954281]\n",
      " [0.22396805 0.35461525 0.88498166 0.55998607 0.81779881 0.18472794\n",
      "  0.31185486 0.09004121 0.38087971 0.78373972]\n",
      " [0.31701952 0.22490823 0.7118107  0.16517926 0.54627729 0.91771556\n",
      "  0.44025643 0.79306387 0.16883242 0.87295054]\n",
      " [0.30537407 0.73530754 0.69808185 0.79368004 0.58462167 0.28925252\n",
      "  0.18804795 0.81305894 0.37659818 0.20675277]]\n",
      "(10, 10)\n",
      "Minimum and Maximum Values:\n",
      "(0.004872121474858271, 0.9630846007112046)\n"
     ]
    }
   ],
   "source": [
    "np_random = np.random.random((10,10))\n",
    "print(np_random)\n",
    "print(np_random.shape)\n",
    "xmin, xmax =np_random.min(), np_random.max()\n",
    "print(\"Minimum and Maximum Values:\")\n",
    "print(xmin, xmax)"
   ]
  },
  {
   "cell_type": "markdown",
   "metadata": {},
   "source": [
    "### 22.A random vector of size 30 and find the mean and median value "
   ]
  },
  {
   "cell_type": "code",
   "execution_count": 232,
   "metadata": {},
   "outputs": [
    {
     "name": "stdout",
     "output_type": "stream",
     "text": [
      "[0.42136409 0.66015817 0.49841743 0.50307081 0.28725798 0.74135673\n",
      " 0.45546244 0.34346057 0.65484164 0.51749585 0.48272131 0.22440349\n",
      " 0.40797879 0.49308972 0.80678841 0.32130175 0.01656697 0.36370785\n",
      " 0.55633609 0.71123206 0.02953308 0.91824893 0.98090119 0.60623236\n",
      " 0.14152561 0.22882106 0.171874   0.36232487 0.2001259  0.34068074]\n",
      "(' Mean is :', 0.4482426629855501)\n",
      "(' Median is :', 0.43841326390835045)\n"
     ]
    }
   ],
   "source": [
    "np_vector = np.random.random(30)\n",
    "print(np_vector)\n",
    "print(\" Mean is :\", np_vector.mean())\n",
    "print(\" Median is :\", np.median(np_vector))"
   ]
  },
  {
   "cell_type": "markdown",
   "metadata": {},
   "source": [
    "### 23.An array and find the max value and index of max value"
   ]
  },
  {
   "cell_type": "code",
   "execution_count": 236,
   "metadata": {},
   "outputs": [
    {
     "name": "stdout",
     "output_type": "stream",
     "text": [
      "[ 1  2  3  4  5  6  7  8  9 10]\n",
      "('Minimum element from Numpy Array : ', 1)\n",
      "('Maximum element from Numpy Array :', 10)\n"
     ]
    }
   ],
   "source": [
    "numpy_arr = np.array([1,2,3,4,5,6,7,8,9,10])\n",
    "print(numpy_arr)\n",
    "minElement = np.amin(numpy_arr) \n",
    "print('Minimum element from Numpy Array : ', minElement)\n",
    "maxElement= np.amax(numpy_arr)\n",
    "print('Maximum element from Numpy Array :', maxElement)"
   ]
  },
  {
   "cell_type": "markdown",
   "metadata": {},
   "source": [
    "### 24.How to find the memory size of any array"
   ]
  },
  {
   "cell_type": "code",
   "execution_count": 239,
   "metadata": {},
   "outputs": [
    {
     "name": "stdout",
     "output_type": "stream",
     "text": [
      "('The memory size of numpy_arr :', 10)\n"
     ]
    }
   ],
   "source": [
    "print('The memory size of numpy_arr :',numpy_arr.size)\n"
   ]
  },
  {
   "cell_type": "markdown",
   "metadata": {},
   "source": [
    "### 25. A 3x3 identity matrix "
   ]
  },
  {
   "cell_type": "code",
   "execution_count": 233,
   "metadata": {},
   "outputs": [
    {
     "data": {
      "text/plain": [
       "array([[1., 0., 0.],\n",
       "       [0., 1., 0.],\n",
       "       [0., 0., 1.]])"
      ]
     },
     "execution_count": 233,
     "metadata": {},
     "output_type": "execute_result"
    }
   ],
   "source": [
    "np.eye(3)"
   ]
  }
 ],
 "metadata": {
  "kernelspec": {
   "display_name": "Python 3",
   "language": "python",
   "name": "python3"
  },
  "language_info": {
   "codemirror_mode": {
    "name": "ipython",
    "version": 3
   },
   "file_extension": ".py",
   "mimetype": "text/x-python",
   "name": "python",
   "nbconvert_exporter": "python",
   "pygments_lexer": "ipython3",
   "version": "3.7.3"
  }
 },
 "nbformat": 4,
 "nbformat_minor": 2
}
