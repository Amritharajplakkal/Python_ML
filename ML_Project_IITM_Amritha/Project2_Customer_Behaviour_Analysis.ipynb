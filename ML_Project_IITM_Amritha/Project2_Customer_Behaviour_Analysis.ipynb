{
 "cells": [
  {
   "cell_type": "markdown",
   "metadata": {},
   "source": [
    "## Customer Behaviour Analysis Using Clustering an Regression"
   ]
  },
  {
   "cell_type": "markdown",
   "metadata": {},
   "source": [
    "### Import libraries necessary for this project"
   ]
  },
  {
   "cell_type": "code",
   "execution_count": 1,
   "metadata": {},
   "outputs": [],
   "source": [
    "import numpy as np\n",
    "import pandas as pd\n",
    "import matplotlib.pyplot as plt\n",
    "import pandas as pd\n",
    "import seaborn as sns\n",
    "%matplotlib inline"
   ]
  },
  {
   "cell_type": "markdown",
   "metadata": {},
   "source": [
    "### Loading Dataset"
   ]
  },
  {
   "cell_type": "code",
   "execution_count": 2,
   "metadata": {},
   "outputs": [],
   "source": [
    "customer_dataset = pd.read_csv('Wholesale customers data.csv')"
   ]
  },
  {
   "cell_type": "code",
   "execution_count": 3,
   "metadata": {},
   "outputs": [
    {
     "data": {
      "text/plain": [
       "(440, 8)"
      ]
     },
     "execution_count": 3,
     "metadata": {},
     "output_type": "execute_result"
    }
   ],
   "source": [
    "customer_dataset.shape"
   ]
  },
  {
   "cell_type": "code",
   "execution_count": 4,
   "metadata": {},
   "outputs": [
    {
     "data": {
      "text/html": [
       "<div>\n",
       "<style scoped>\n",
       "    .dataframe tbody tr th:only-of-type {\n",
       "        vertical-align: middle;\n",
       "    }\n",
       "\n",
       "    .dataframe tbody tr th {\n",
       "        vertical-align: top;\n",
       "    }\n",
       "\n",
       "    .dataframe thead th {\n",
       "        text-align: right;\n",
       "    }\n",
       "</style>\n",
       "<table border=\"1\" class=\"dataframe\">\n",
       "  <thead>\n",
       "    <tr style=\"text-align: right;\">\n",
       "      <th></th>\n",
       "      <th>Channel</th>\n",
       "      <th>Region</th>\n",
       "      <th>Fresh</th>\n",
       "      <th>Milk</th>\n",
       "      <th>Grocery</th>\n",
       "      <th>Frozen</th>\n",
       "      <th>Detergents_Paper</th>\n",
       "      <th>Delicassen</th>\n",
       "    </tr>\n",
       "  </thead>\n",
       "  <tbody>\n",
       "    <tr>\n",
       "      <th>0</th>\n",
       "      <td>2</td>\n",
       "      <td>3</td>\n",
       "      <td>12669</td>\n",
       "      <td>9656</td>\n",
       "      <td>7561</td>\n",
       "      <td>214</td>\n",
       "      <td>2674</td>\n",
       "      <td>1338</td>\n",
       "    </tr>\n",
       "    <tr>\n",
       "      <th>1</th>\n",
       "      <td>2</td>\n",
       "      <td>3</td>\n",
       "      <td>7057</td>\n",
       "      <td>9810</td>\n",
       "      <td>9568</td>\n",
       "      <td>1762</td>\n",
       "      <td>3293</td>\n",
       "      <td>1776</td>\n",
       "    </tr>\n",
       "    <tr>\n",
       "      <th>2</th>\n",
       "      <td>2</td>\n",
       "      <td>3</td>\n",
       "      <td>6353</td>\n",
       "      <td>8808</td>\n",
       "      <td>7684</td>\n",
       "      <td>2405</td>\n",
       "      <td>3516</td>\n",
       "      <td>7844</td>\n",
       "    </tr>\n",
       "    <tr>\n",
       "      <th>3</th>\n",
       "      <td>1</td>\n",
       "      <td>3</td>\n",
       "      <td>13265</td>\n",
       "      <td>1196</td>\n",
       "      <td>4221</td>\n",
       "      <td>6404</td>\n",
       "      <td>507</td>\n",
       "      <td>1788</td>\n",
       "    </tr>\n",
       "    <tr>\n",
       "      <th>4</th>\n",
       "      <td>2</td>\n",
       "      <td>3</td>\n",
       "      <td>22615</td>\n",
       "      <td>5410</td>\n",
       "      <td>7198</td>\n",
       "      <td>3915</td>\n",
       "      <td>1777</td>\n",
       "      <td>5185</td>\n",
       "    </tr>\n",
       "  </tbody>\n",
       "</table>\n",
       "</div>"
      ],
      "text/plain": [
       "   Channel  Region  Fresh  Milk  Grocery  Frozen  Detergents_Paper  Delicassen\n",
       "0        2       3  12669  9656     7561     214              2674        1338\n",
       "1        2       3   7057  9810     9568    1762              3293        1776\n",
       "2        2       3   6353  8808     7684    2405              3516        7844\n",
       "3        1       3  13265  1196     4221    6404               507        1788\n",
       "4        2       3  22615  5410     7198    3915              1777        5185"
      ]
     },
     "execution_count": 4,
     "metadata": {},
     "output_type": "execute_result"
    }
   ],
   "source": [
    "customer_dataset.head(5)"
   ]
  },
  {
   "cell_type": "code",
   "execution_count": 5,
   "metadata": {},
   "outputs": [
    {
     "name": "stdout",
     "output_type": "stream",
     "text": [
      "<class 'pandas.core.frame.DataFrame'>\n",
      "RangeIndex: 440 entries, 0 to 439\n",
      "Data columns (total 8 columns):\n",
      "Channel             440 non-null int64\n",
      "Region              440 non-null int64\n",
      "Fresh               440 non-null int64\n",
      "Milk                440 non-null int64\n",
      "Grocery             440 non-null int64\n",
      "Frozen              440 non-null int64\n",
      "Detergents_Paper    440 non-null int64\n",
      "Delicassen          440 non-null int64\n",
      "dtypes: int64(8)\n",
      "memory usage: 27.6 KB\n"
     ]
    }
   ],
   "source": [
    "customer_dataset.info()"
   ]
  },
  {
   "cell_type": "code",
   "execution_count": 6,
   "metadata": {},
   "outputs": [
    {
     "name": "stdout",
     "output_type": "stream",
     "text": [
      "<class 'pandas.core.frame.DataFrame'>\n",
      "RangeIndex: 440 entries, 0 to 439\n",
      "Data columns (total 8 columns):\n",
      "Channel             440 non-null category\n",
      "Region              440 non-null category\n",
      "Fresh               440 non-null int64\n",
      "Milk                440 non-null int64\n",
      "Grocery             440 non-null int64\n",
      "Frozen              440 non-null int64\n",
      "Detergents_Paper    440 non-null int64\n",
      "Delicassen          440 non-null int64\n",
      "dtypes: category(2), int64(6)\n",
      "memory usage: 21.8 KB\n"
     ]
    }
   ],
   "source": [
    "customer_dataset['Channel'] = customer_dataset['Channel'].astype('category')\n",
    "customer_dataset['Region'] = customer_dataset['Region'].astype('category')\n",
    "customer_dataset.info()"
   ]
  },
  {
   "cell_type": "code",
   "execution_count": 7,
   "metadata": {},
   "outputs": [
    {
     "name": "stdout",
     "output_type": "stream",
     "text": [
      "Fresh               12000.297727\n",
      "Milk                 5796.265909\n",
      "Grocery              7951.277273\n",
      "Frozen               3071.931818\n",
      "Detergents_Paper     2881.493182\n",
      "Delicassen           1524.870455\n",
      "Name: mean, dtype: float64\n"
     ]
    }
   ],
   "source": [
    "# Get the means \n",
    "mean_data = customer_dataset.describe().loc['mean', :]\n",
    "print(mean_data)"
   ]
  },
  {
   "cell_type": "code",
   "execution_count": 8,
   "metadata": {},
   "outputs": [
    {
     "data": {
      "image/png": "[encoded data removed]",
      "text/plain": [
       "<Figure size 432x288 with 1 Axes>"
      ]
     },
     "metadata": {},
     "output_type": "display_data"
    }
   ],
   "source": [
    "# Attributes for the pie chart\n",
    "labels = 'Fresh ', 'Milk','Grocery' ,'Frozen' ,'Detergents_Paper' ,'Delicassen'  \n",
    "sizes = [12000.297727,5796.265909,7951.277273,3071.931818,2881.493182,1524.870455]\n",
    "#colors = ['yellowgreen','lightcoral',''] #,color for the portions  colors=colors,\n",
    "explode = (0.1, 0,0,0,0,0)  # explode 1st slice\n",
    "\n",
    "# Plot\n",
    "plt.pie(sizes, explode=explode, labels=labels,\n",
    "autopct='%1.1f%%', shadow=True, startangle=140)\n",
    "plt.axis('equal')\n",
    "plt.show()"
   ]
  },
  {
   "cell_type": "code",
   "execution_count": 9,
   "metadata": {},
   "outputs": [
    {
     "name": "stdout",
     "output_type": "stream",
     "text": [
      "    Channel Region  Fresh   Milk  Grocery  Frozen  Detergents_Paper  \\\n",
      "14        2      3  24653   9465    12091     294              5058   \n",
      "299       1      2    444    879     2060     264               290   \n",
      "356       1      3  22686    134      218    3157                 9   \n",
      "200       2      1   3067  13240    23127    3941              9959   \n",
      "220       1      1  14755    899     1382    1765                56   \n",
      "\n",
      "     Delicassen  \n",
      "14         2168  \n",
      "299         259  \n",
      "356         548  \n",
      "200         731  \n",
      "220         749  \n"
     ]
    }
   ],
   "source": [
    "# Splitting the dataset into the training and test sets\n",
    "X = customer_dataset\n",
    "y = customer_dataset[\"Fresh\"]\n",
    "from sklearn.model_selection import train_test_split\n",
    "X_train, X_test, y_train, y_test = train_test_split(X, y, train_size = 0.75, random_state = 0)\n",
    "print(X_train.head(5))\n",
    "\n",
    "X_test0 = X_test\n",
    "y_test0 = y_test"
   ]
  },
  {
   "cell_type": "markdown",
   "metadata": {},
   "source": [
    "### Evaluating the regression Algorithm on the dataset"
   ]
  },
  {
   "cell_type": "code",
   "execution_count": 10,
   "metadata": {},
   "outputs": [
    {
     "name": "stdout",
     "output_type": "stream",
     "text": [
      "-3.637978807091713e-12\n",
      "[ 6.61447799e-13 -1.71656997e-13  1.00000000e+00  1.03320934e-15\n",
      " -1.58959011e-16  8.07115790e-17  6.03853468e-17  4.40543594e-17]\n"
     ]
    }
   ],
   "source": [
    "from sklearn.linear_model import LinearRegression\n",
    "lm = LinearRegression()\n",
    "lm.fit(X_train,y_train)\n",
    "print(lm.intercept_)\n",
    "print(lm.coef_)"
   ]
  },
  {
   "cell_type": "code",
   "execution_count": 11,
   "metadata": {},
   "outputs": [
    {
     "name": "stdout",
     "output_type": "stream",
     "text": [
      "[1.5370e+03 5.9810e+03 8.0400e+03 9.7590e+03 2.7329e+04 3.1714e+04\n",
      " 3.5500e+02 6.8951e+04 8.9400e+02 1.1800e+04 3.3660e+03 1.1070e+03\n",
      " 1.2060e+03 2.5767e+04 7.8580e+03 2.7870e+03 1.5168e+04 2.3000e+01\n",
      " 2.7167e+04 3.7036e+04 3.2717e+04 2.0000e+02 1.1686e+04 6.3730e+03\n",
      " 5.5670e+03 9.6020e+03 3.0620e+03 2.2321e+04 3.7000e+01 5.3205e+04\n",
      " 1.9820e+03 7.0570e+03 7.1700e+02 2.6470e+03 5.4200e+02 4.0980e+03\n",
      " 1.6890e+03 1.1405e+04 7.3880e+03 5.1130e+03 3.4630e+03 3.9228e+04\n",
      " 1.7773e+04 8.7970e+03 3.6050e+04 5.2240e+03 1.1594e+04 8.6560e+03\n",
      " 2.2335e+04 1.4438e+04 1.0253e+04 1.8380e+03 3.3170e+03 1.7250e+03\n",
      " 8.5900e+03 1.5354e+04 6.0800e+02 2.8257e+04 1.2126e+04 2.0105e+04\n",
      " 4.4140e+03 2.8610e+03 1.9746e+04 1.9890e+03 2.5500e+02 8.0900e+03\n",
      " 2.6000e+02 1.7565e+04 6.1370e+03 2.7710e+03 1.0766e+04 1.1243e+04\n",
      " 8.5000e+01 1.3624e+04 2.5962e+04 3.1614e+04 9.6120e+03 3.4770e+03\n",
      " 8.7080e+03 4.5640e+04 2.9320e+03 3.0090e+03 5.2830e+03 1.4903e+04\n",
      " 4.9670e+03 4.0721e+04 8.1900e+03 9.8980e+03 5.1810e+03 1.0730e+03\n",
      " 2.2615e+04 8.6350e+03 2.1117e+04 6.3000e+03 2.1530e+03 5.9630e+03\n",
      " 1.6933e+04 9.4130e+03 1.2212e+04 2.2096e+04 4.0480e+03 7.5790e+03\n",
      " 2.3440e+03 2.6150e+03 3.1276e+04 2.4460e+03 1.5881e+04 1.7546e+04\n",
      " 3.0379e+04 7.5880e+03]\n"
     ]
    }
   ],
   "source": [
    "y_pred = lm.predict(X_test) # Making predictions using the model\n",
    "print(y_pred)"
   ]
  },
  {
   "cell_type": "code",
   "execution_count": 12,
   "metadata": {},
   "outputs": [
    {
     "name": "stdout",
     "output_type": "stream",
     "text": [
      "208     1537\n",
      "349     5981\n",
      "249     8040\n",
      "319     9759\n",
      "54     27329\n",
      "12     31714\n",
      "159      355\n",
      "284    68951\n",
      "274      894\n",
      "318    11800\n",
      "10      3366\n",
      "205     1107\n",
      "386     1206\n",
      "283    25767\n",
      "261     7858\n",
      "439     2787\n",
      "37     15168\n",
      "96        23\n",
      "401    27167\n",
      "142    37036\n",
      "325    32717\n",
      "171      200\n",
      "198    11686\n",
      "206     6373\n",
      "21      5567\n",
      "395     9602\n",
      "245     3062\n",
      "332    22321\n",
      "357       37\n",
      "259    53205\n",
      "       ...  \n",
      "102     2932\n",
      "186     3009\n",
      "301     5283\n",
      "132    14903\n",
      "49      4967\n",
      "52     40721\n",
      "74      8190\n",
      "26      9898\n",
      "45      5181\n",
      "264     1073\n",
      "4      22615\n",
      "236     8635\n",
      "432    21117\n",
      "135     6300\n",
      "263     2153\n",
      "8       5963\n",
      "328    16933\n",
      "5       9413\n",
      "122    12212\n",
      "240    22096\n",
      "379     4048\n",
      "7       7579\n",
      "231     2344\n",
      "364     2615\n",
      "22     31276\n",
      "68      2446\n",
      "322    15881\n",
      "20     17546\n",
      "141    30379\n",
      "295     7588\n",
      "Name: Fresh, Length: 110, dtype: int64\n"
     ]
    }
   ],
   "source": [
    "print(y_test)"
   ]
  },
  {
   "cell_type": "code",
   "execution_count": 13,
   "metadata": {},
   "outputs": [
    {
     "name": "stdout",
     "output_type": "stream",
     "text": [
      "Mean_Squared_Error : 3.802917163914574e-23\n",
      "Root_Mean_Squared_Error : 6.166779681417663e-12\n",
      "r_square_value : 1.0\n"
     ]
    }
   ],
   "source": [
    "from sklearn.metrics import mean_squared_error, r2_score\n",
    "meansqerror = mean_squared_error(y_test, y_pred)\n",
    "r_squared = r2_score(y_test, y_pred)\n",
    "from math import sqrt\n",
    "rmse = sqrt(meansqerror)\n",
    "\n",
    "## Printing the measures\n",
    "print('Mean_Squared_Error :' ,meansqerror)\n",
    "print('Root_Mean_Squared_Error :' ,rmse)\n",
    "print('r_square_value :',r_squared)"
   ]
  },
  {
   "cell_type": "code",
   "execution_count": 14,
   "metadata": {},
   "outputs": [
    {
     "data": {
      "text/plain": [
       "Text(0, 0.5, 'y_pred')"
      ]
     },
     "execution_count": 14,
     "metadata": {},
     "output_type": "execute_result"
    },
    {
     "data": {
      "image/png": "[encoded data removed]",
      "text/plain": [
       "<Figure size 432x288 with 1 Axes>"
      ]
     },
     "metadata": {
      "needs_background": "light"
     },
     "output_type": "display_data"
    }
   ],
   "source": [
    "# Plotting y_test and y_pred to understand the spread.\n",
    "fig = plt.figure()\n",
    "plt.scatter(y_test,y_pred)\n",
    "fig.suptitle('y_test vs y_pred', fontsize=20)              # Plot heading \n",
    "plt.xlabel('y_test', fontsize=18)                          # X-label\n",
    "plt.ylabel('y_pred', fontsize=16) "
   ]
  },
  {
   "cell_type": "code",
   "execution_count": 15,
   "metadata": {},
   "outputs": [
    {
     "data": {
      "text/plain": [
       "Text(0, 0.5, 'Index')"
      ]
     },
     "execution_count": 15,
     "metadata": {},
     "output_type": "execute_result"
    },
    {
     "data": {
      "image/png": "[encoded data removed]",
      "text/plain": [
       "<Figure size 432x288 with 1 Axes>"
      ]
     },
     "metadata": {
      "needs_background": "light"
     },
     "output_type": "display_data"
    }
   ],
   "source": [
    "# Plotting the error terms to understand the distribution.\n",
    "fig = plt.figure()\n",
    "sns.distplot((y_test-y_pred),bins=50)\n",
    "fig.suptitle('Error Terms', fontsize=20)                  # Plot heading \n",
    "plt.xlabel('y_test-y_pred', fontsize=18)                  # X-label\n",
    "plt.ylabel('Index', fontsize=16)  "
   ]
  },
  {
   "cell_type": "markdown",
   "metadata": {},
   "source": [
    "### Clustering the customers"
   ]
  },
  {
   "cell_type": "code",
   "execution_count": 16,
   "metadata": {},
   "outputs": [
    {
     "data": {
      "image/png": "[encoded data removed]",
      "text/plain": [
       "<Figure size 432x288 with 1 Axes>"
      ]
     },
     "metadata": {
      "needs_background": "light"
     },
     "output_type": "display_data"
    }
   ],
   "source": [
    "# Using the elbow method to find the optimal number of clusters\n",
    "\n",
    "from sklearn.cluster import KMeans\n",
    "wcss = []\n",
    "for i in range(1, 11):\n",
    "    kmeans = KMeans(n_clusters = i, init = 'k-means++', random_state = 42)\n",
    "    kmeans.fit(X_test)\n",
    "    wcss.append(kmeans.inertia_)\n",
    "plt.plot(range(1, 11), wcss)\n",
    "plt.title('The Elbow Method')\n",
    "plt.xlabel('Number of clusters')\n",
    "plt.ylabel('WCSS')\n",
    "plt.show()"
   ]
  },
  {
   "cell_type": "code",
   "execution_count": 17,
   "metadata": {},
   "outputs": [
    {
     "data": {
      "image/png": "[encoded data removed]",
      "text/plain": [
       "<Figure size 432x288 with 1 Axes>"
      ]
     },
     "metadata": {
      "needs_background": "light"
     },
     "output_type": "display_data"
    }
   ],
   "source": [
    "##Based on the above diagram, the optimal number of customer segmenets \n",
    "#is 3. After the first 3 segments, the incremental drop in error \n",
    "#for every additional segment results is significantly reduced.\n",
    "\n",
    "# Fitting K-Means to the dataset\n",
    "X3 = X_test\n",
    "kmeans = KMeans(n_clusters = 3, init = 'k-means++', random_state = 42)\n",
    "y_kmeans = kmeans.fit_predict(X3)\n",
    "plt.plot(y_kmeans, 'g*')\n",
    "plt.show()"
   ]
  },
  {
   "cell_type": "code",
   "execution_count": 18,
   "metadata": {},
   "outputs": [],
   "source": [
    "Customer_segment_class = pd.DataFrame(y_kmeans)\n",
    "Customer_segment_class.columns = [\"Customer_segment_class\"]\n",
    "X_test2 = X_test0.reset_index(drop=True)\n",
    "\n",
    "Customer_segments = pd.concat([Customer_segment_class, X_test2], axis = 1)\n",
    "# Customer_segments.head(5)"
   ]
  },
  {
   "cell_type": "code",
   "execution_count": 19,
   "metadata": {},
   "outputs": [],
   "source": [
    "# 1st Cluster\n",
    "mask = Customer_segments[\"Customer_segment_class\"] == 0\n",
    "Customer_segments_1 = Customer_segments[mask]\n",
    "\n",
    "# 2nd Cluster\n",
    "mask = Customer_segments[\"Customer_segment_class\"] == 1\n",
    "Customer_segments_2 = Customer_segments[mask]\n",
    "\n",
    "# 3rd Cluster\n",
    "mask = Customer_segments[\"Customer_segment_class\"] == 2\n",
    "Customer_segments_3 = Customer_segments[mask]"
   ]
  },
  {
   "cell_type": "code",
   "execution_count": 20,
   "metadata": {},
   "outputs": [
    {
     "data": {
      "image/png": "[encoded data removed]",
      "text/plain": [
       "<Figure size 432x288 with 9 Axes>"
      ]
     },
     "metadata": {
      "needs_background": "light"
     },
     "output_type": "display_data"
    }
   ],
   "source": [
    "# Fresh\n",
    "\n",
    "plt.subplot(331)\n",
    "plt.title('Fresh_1')\n",
    "Output = None\n",
    "Customer_segments_1[\"Fresh\"].plot(kind = \"hist\", bins = 10)\n",
    "\n",
    "plt.subplot(332)\n",
    "plt.title('Freshs_2')\n",
    "Output = None\n",
    "Customer_segments_2[\"Fresh\"].plot(kind = \"hist\", bins = 10)\n",
    "\n",
    "plt.subplot(333)\n",
    "plt.title('Fresh_3')\n",
    "Output = None\n",
    "Customer_segments_3[\"Fresh\"].plot(kind = \"hist\", bins = 10)\n",
    "plt.tight_layout()\n",
    "\n",
    "# Milk\n",
    "\n",
    "plt.subplot(334)\n",
    "plt.title('Milk_1')\n",
    "Output = None\n",
    "Customer_segments_1[\"Milk\"].plot(kind = \"hist\", bins = 10)\n",
    "\n",
    "plt.subplot(335)\n",
    "plt.title('Milk_2')\n",
    "Output = None\n",
    "Customer_segments_2[\"Milk\"].plot(kind = \"hist\", bins = 10)\n",
    "\n",
    "plt.subplot(336)\n",
    "plt.title('Milk_3')\n",
    "Output = None\n",
    "Customer_segments_3[\"Milk\"].plot(kind = \"hist\", bins = 10)\n",
    "plt.tight_layout()\n",
    "\n",
    "# Grocery\n",
    "\n",
    "plt.subplot(337)\n",
    "plt.title('Grocery_1')\n",
    "Output = None\n",
    "Customer_segments_1[\"Grocery\"].plot(kind = \"hist\", bins = 10)\n",
    "\n",
    "plt.subplot(338)\n",
    "plt.title('Grocery_2')\n",
    "Output = None\n",
    "Customer_segments_2[\"Grocery\"].plot(kind = \"hist\", bins = 10)\n",
    "\n",
    "plt.subplot(339)\n",
    "plt.title('Grocery_3')\n",
    "Output = None\n",
    "Customer_segments_3[\"Grocery\"].plot(kind = \"hist\", bins = 10)\n",
    "plt.tight_layout()"
   ]
  },
  {
   "cell_type": "code",
   "execution_count": 21,
   "metadata": {},
   "outputs": [
    {
     "data": {
      "image/png": "[encoded data removed]",
      "text/plain": [
       "<Figure size 432x288 with 9 Axes>"
      ]
     },
     "metadata": {
      "needs_background": "light"
     },
     "output_type": "display_data"
    }
   ],
   "source": [
    "# Frozen\n",
    "\n",
    "plt.subplot(331)\n",
    "plt.title('Frozen_1')\n",
    "Customer_segments_1[\"Frozen\"].plot(kind = \"hist\", bins = 10)\n",
    "\n",
    "plt.subplot(332)\n",
    "plt.title('Frozen_2')\n",
    "Customer_segments_2[\"Frozen\"].plot(kind = \"hist\", bins = 10)\n",
    "\n",
    "plt.subplot(333)\n",
    "plt.title('Frozen_3')\n",
    "Customer_segments_3[\"Frozen\"].plot(kind = \"hist\", bins = 10)\n",
    "plt.tight_layout()\n",
    "\n",
    "# Detergent Paper\n",
    "\n",
    "plt.subplot(334)\n",
    "plt.title('Detergent_1')\n",
    "Customer_segments_1[\"Detergents_Paper\"].plot(kind = \"hist\", bins = 10)\n",
    "\n",
    "plt.subplot(335)\n",
    "plt.title('Detergent_2')\n",
    "Customer_segments_2[\"Detergents_Paper\"].plot(kind = \"hist\", bins = 10)\n",
    "\n",
    "plt.subplot(336)\n",
    "plt.title('Detergent_3')\n",
    "Customer_segments_3[\"Detergents_Paper\"].plot(kind = \"hist\", bins = 10)\n",
    "plt.tight_layout()\n",
    "\n",
    "# Delicassen\n",
    "\n",
    "plt.subplot(337)\n",
    "plt.title('Delicassen_1')\n",
    "Customer_segments_1[\"Delicassen\"].plot(kind = \"hist\", bins = 10)\n",
    "\n",
    "plt.subplot(338)\n",
    "plt.title('Delicassen_2')\n",
    "Customer_segments_2[\"Delicassen\"].plot(kind = \"hist\", bins = 10)\n",
    "\n",
    "plt.subplot(339)\n",
    "plt.title('Delicassen_3')\n",
    "Customer_segments_3[\"Delicassen\"].plot(kind = \"hist\", bins = 10)\n",
    "plt.tight_layout()"
   ]
  }
 ],
 "metadata": {
  "kernelspec": {
   "display_name": "Python 3",
   "language": "python",
   "name": "python3"
  },
  "language_info": {
   "codemirror_mode": {
    "name": "ipython",
    "version": 3
   },
   "file_extension": ".py",
   "mimetype": "text/x-python",
   "name": "python",
   "nbconvert_exporter": "python",
   "pygments_lexer": "ipython3",
   "version": "3.7.3"
  }
 },
 "nbformat": 4,
 "nbformat_minor": 2
}
